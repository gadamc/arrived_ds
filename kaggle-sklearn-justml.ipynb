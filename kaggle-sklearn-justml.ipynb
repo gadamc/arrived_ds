{
 "cells": [
  {
   "cell_type": "code",
   "execution_count": 1,
   "metadata": {},
   "outputs": [],
   "source": [
    "import pandas as pd\n",
    "from sklearn.model_selection import cross_val_score, train_test_split \n"
   ]
  },
  {
   "cell_type": "code",
   "execution_count": 5,
   "metadata": {},
   "outputs": [
    {
     "name": "stdout",
     "output_type": "stream",
     "text": [
      "Collecting justml\n",
      "  Downloading https://files.pythonhosted.org/packages/65/fd/15d51190a0335953d0c91ac07327d992d959730a41038a223d7cb56d646d/justml-1.0.0.tar.gz\n",
      "Requirement already satisfied: requests in /Users/adamcox/miniconda2/envs/govertical/lib/python3.5/site-packages (from justml)\n",
      "Requirement already satisfied: chardet<3.1.0,>=3.0.2 in /Users/adamcox/miniconda2/envs/govertical/lib/python3.5/site-packages (from requests->justml)\n",
      "Requirement already satisfied: idna<2.7,>=2.5 in /Users/adamcox/miniconda2/envs/govertical/lib/python3.5/site-packages (from requests->justml)\n",
      "Requirement already satisfied: urllib3<1.23,>=1.21.1 in /Users/adamcox/miniconda2/envs/govertical/lib/python3.5/site-packages (from requests->justml)\n",
      "Requirement already satisfied: certifi>=2017.4.17 in /Users/adamcox/miniconda2/envs/govertical/lib/python3.5/site-packages (from requests->justml)\n",
      "Building wheels for collected packages: justml\n",
      "  Running setup.py bdist_wheel for justml ... \u001b[?25ldone\n",
      "\u001b[?25h  Stored in directory: /Users/adamcox/Library/Caches/pip/wheels/69/40/d6/4cf11b3c5d298e3516c1060ca1a0d33b71a6c44701a50983cb\n",
      "Successfully built justml\n",
      "Installing collected packages: justml\n",
      "Successfully installed justml-1.0.0\n",
      "\u001b[33mYou are using pip version 9.0.3, however version 10.0.1 is available.\n",
      "You should consider upgrading via the 'pip install --upgrade pip' command.\u001b[0m\n"
     ]
    }
   ],
   "source": [
    "!pip install justml"
   ]
  },
  {
   "cell_type": "code",
   "execution_count": 6,
   "metadata": {},
   "outputs": [],
   "source": [
    "import justml\n",
    "\n",
    "justml.api_key = \"key-HKJHeMOtbjqbW9P3YzzP-q8rZioZMhdNg24O6Nd6Ybw\"\n",
    "justml.activate_logging()\n"
   ]
  },
  {
   "cell_type": "code",
   "execution_count": 7,
   "metadata": {},
   "outputs": [
    {
     "name": "stdout",
     "output_type": "stream",
     "text": [
      "uninitialized\n"
     ]
    }
   ],
   "source": [
    "clf = justml.Classifier(name=\"classifier1\")\n",
    "print(clf.status)"
   ]
  },
  {
   "cell_type": "code",
   "execution_count": 2,
   "metadata": {},
   "outputs": [],
   "source": [
    "filename = 'KaggleV2-May-2016_with_new_cols_may5_1338.csv'\n",
    "no_show = pd.read_csv(filename, encoding='latin')"
   ]
  },
  {
   "cell_type": "code",
   "execution_count": 9,
   "metadata": {},
   "outputs": [
    {
     "data": {
      "text/html": [
       "<div>\n",
       "<style scoped>\n",
       "    .dataframe tbody tr th:only-of-type {\n",
       "        vertical-align: middle;\n",
       "    }\n",
       "\n",
       "    .dataframe tbody tr th {\n",
       "        vertical-align: top;\n",
       "    }\n",
       "\n",
       "    .dataframe thead th {\n",
       "        text-align: right;\n",
       "    }\n",
       "</style>\n",
       "<table border=\"1\" class=\"dataframe\">\n",
       "  <thead>\n",
       "    <tr style=\"text-align: right;\">\n",
       "      <th></th>\n",
       "      <th>PatientId</th>\n",
       "      <th>AppointmentID</th>\n",
       "      <th>Gender</th>\n",
       "      <th>ScheduledDay</th>\n",
       "      <th>AppointmentDay</th>\n",
       "      <th>Age</th>\n",
       "      <th>Neighbourhood</th>\n",
       "      <th>Scholarship</th>\n",
       "      <th>Hipertension</th>\n",
       "      <th>Diabetes</th>\n",
       "      <th>...</th>\n",
       "      <th>No-show</th>\n",
       "      <th>time_d</th>\n",
       "      <th>time_d_total_seconds</th>\n",
       "      <th>a_day_of_week</th>\n",
       "      <th>s_day_of_week</th>\n",
       "      <th>Neighbourhood_category</th>\n",
       "      <th>Gender_category</th>\n",
       "      <th>no_show</th>\n",
       "      <th>scheduled_hour</th>\n",
       "      <th>time_d_total_days</th>\n",
       "    </tr>\n",
       "  </thead>\n",
       "  <tbody>\n",
       "    <tr>\n",
       "      <th>0</th>\n",
       "      <td>2.987250e+13</td>\n",
       "      <td>5642903</td>\n",
       "      <td>F</td>\n",
       "      <td>2016-04-29 18:38:08</td>\n",
       "      <td>2016-04-29 00:00:00</td>\n",
       "      <td>62</td>\n",
       "      <td>JARDIM DA PENHA</td>\n",
       "      <td>0</td>\n",
       "      <td>1</td>\n",
       "      <td>0</td>\n",
       "      <td>...</td>\n",
       "      <td>No</td>\n",
       "      <td>-1 days +05:21:52.000000000</td>\n",
       "      <td>-67088.0</td>\n",
       "      <td>4</td>\n",
       "      <td>4</td>\n",
       "      <td>39</td>\n",
       "      <td>0</td>\n",
       "      <td>False</td>\n",
       "      <td>18</td>\n",
       "      <td>0</td>\n",
       "    </tr>\n",
       "    <tr>\n",
       "      <th>1</th>\n",
       "      <td>5.589980e+14</td>\n",
       "      <td>5642503</td>\n",
       "      <td>M</td>\n",
       "      <td>2016-04-29 16:08:27</td>\n",
       "      <td>2016-04-29 00:00:00</td>\n",
       "      <td>56</td>\n",
       "      <td>JARDIM DA PENHA</td>\n",
       "      <td>0</td>\n",
       "      <td>0</td>\n",
       "      <td>0</td>\n",
       "      <td>...</td>\n",
       "      <td>No</td>\n",
       "      <td>-1 days +07:51:33.000000000</td>\n",
       "      <td>-58107.0</td>\n",
       "      <td>4</td>\n",
       "      <td>4</td>\n",
       "      <td>39</td>\n",
       "      <td>1</td>\n",
       "      <td>False</td>\n",
       "      <td>16</td>\n",
       "      <td>0</td>\n",
       "    </tr>\n",
       "    <tr>\n",
       "      <th>2</th>\n",
       "      <td>4.262960e+12</td>\n",
       "      <td>5642549</td>\n",
       "      <td>F</td>\n",
       "      <td>2016-04-29 16:19:04</td>\n",
       "      <td>2016-04-29 00:00:00</td>\n",
       "      <td>62</td>\n",
       "      <td>MATA DA PRAIA</td>\n",
       "      <td>0</td>\n",
       "      <td>0</td>\n",
       "      <td>0</td>\n",
       "      <td>...</td>\n",
       "      <td>No</td>\n",
       "      <td>-1 days +07:40:56.000000000</td>\n",
       "      <td>-58744.0</td>\n",
       "      <td>4</td>\n",
       "      <td>4</td>\n",
       "      <td>45</td>\n",
       "      <td>0</td>\n",
       "      <td>False</td>\n",
       "      <td>16</td>\n",
       "      <td>0</td>\n",
       "    </tr>\n",
       "    <tr>\n",
       "      <th>3</th>\n",
       "      <td>8.679510e+11</td>\n",
       "      <td>5642828</td>\n",
       "      <td>F</td>\n",
       "      <td>2016-04-29 17:29:31</td>\n",
       "      <td>2016-04-29 00:00:00</td>\n",
       "      <td>8</td>\n",
       "      <td>PONTAL DE CAMBURI</td>\n",
       "      <td>0</td>\n",
       "      <td>0</td>\n",
       "      <td>0</td>\n",
       "      <td>...</td>\n",
       "      <td>No</td>\n",
       "      <td>-1 days +06:30:29.000000000</td>\n",
       "      <td>-62971.0</td>\n",
       "      <td>4</td>\n",
       "      <td>4</td>\n",
       "      <td>54</td>\n",
       "      <td>0</td>\n",
       "      <td>False</td>\n",
       "      <td>17</td>\n",
       "      <td>0</td>\n",
       "    </tr>\n",
       "    <tr>\n",
       "      <th>4</th>\n",
       "      <td>8.841190e+12</td>\n",
       "      <td>5642494</td>\n",
       "      <td>F</td>\n",
       "      <td>2016-04-29 16:07:23</td>\n",
       "      <td>2016-04-29 00:00:00</td>\n",
       "      <td>56</td>\n",
       "      <td>JARDIM DA PENHA</td>\n",
       "      <td>0</td>\n",
       "      <td>1</td>\n",
       "      <td>1</td>\n",
       "      <td>...</td>\n",
       "      <td>No</td>\n",
       "      <td>-1 days +07:52:37.000000000</td>\n",
       "      <td>-58043.0</td>\n",
       "      <td>4</td>\n",
       "      <td>4</td>\n",
       "      <td>39</td>\n",
       "      <td>0</td>\n",
       "      <td>False</td>\n",
       "      <td>16</td>\n",
       "      <td>0</td>\n",
       "    </tr>\n",
       "  </tbody>\n",
       "</table>\n",
       "<p>5 rows × 23 columns</p>\n",
       "</div>"
      ],
      "text/plain": [
       "      PatientId  AppointmentID Gender         ScheduledDay  \\\n",
       "0  2.987250e+13        5642903      F  2016-04-29 18:38:08   \n",
       "1  5.589980e+14        5642503      M  2016-04-29 16:08:27   \n",
       "2  4.262960e+12        5642549      F  2016-04-29 16:19:04   \n",
       "3  8.679510e+11        5642828      F  2016-04-29 17:29:31   \n",
       "4  8.841190e+12        5642494      F  2016-04-29 16:07:23   \n",
       "\n",
       "        AppointmentDay  Age      Neighbourhood  Scholarship  Hipertension  \\\n",
       "0  2016-04-29 00:00:00   62    JARDIM DA PENHA            0             1   \n",
       "1  2016-04-29 00:00:00   56    JARDIM DA PENHA            0             0   \n",
       "2  2016-04-29 00:00:00   62      MATA DA PRAIA            0             0   \n",
       "3  2016-04-29 00:00:00    8  PONTAL DE CAMBURI            0             0   \n",
       "4  2016-04-29 00:00:00   56    JARDIM DA PENHA            0             1   \n",
       "\n",
       "   Diabetes        ...          No-show                       time_d  \\\n",
       "0         0        ...               No  -1 days +05:21:52.000000000   \n",
       "1         0        ...               No  -1 days +07:51:33.000000000   \n",
       "2         0        ...               No  -1 days +07:40:56.000000000   \n",
       "3         0        ...               No  -1 days +06:30:29.000000000   \n",
       "4         1        ...               No  -1 days +07:52:37.000000000   \n",
       "\n",
       "   time_d_total_seconds a_day_of_week s_day_of_week  Neighbourhood_category  \\\n",
       "0              -67088.0             4             4                      39   \n",
       "1              -58107.0             4             4                      39   \n",
       "2              -58744.0             4             4                      45   \n",
       "3              -62971.0             4             4                      54   \n",
       "4              -58043.0             4             4                      39   \n",
       "\n",
       "   Gender_category  no_show  scheduled_hour  time_d_total_days  \n",
       "0                0    False              18                  0  \n",
       "1                1    False              16                  0  \n",
       "2                0    False              16                  0  \n",
       "3                0    False              17                  0  \n",
       "4                0    False              16                  0  \n",
       "\n",
       "[5 rows x 23 columns]"
      ]
     },
     "execution_count": 9,
     "metadata": {},
     "output_type": "execute_result"
    }
   ],
   "source": [
    "no_show.head()"
   ]
  },
  {
   "cell_type": "code",
   "execution_count": 10,
   "metadata": {},
   "outputs": [],
   "source": [
    "# feature_set = ['Age', 'Scholarship', 'Hipertension', 'Diabetes', 'Alcoholism', 'Handcap', 'SMS_received', \\\n",
    "#             'Neighbourhood_category', 'Gender_category', 'scheduled_hour', 's_day_of_week', 'a_day_of_week']\n",
    "feature_set = ['Age', 'Scholarship', 'Hipertension', 'Diabetes', 'Alcoholism', 'Handcap', 'SMS_received', \\\n",
    "            'Gender_category', 'scheduled_hour', 's_day_of_week', 'a_day_of_week', 'time_d_total_seconds']\n"
   ]
  },
  {
   "cell_type": "code",
   "execution_count": 12,
   "metadata": {},
   "outputs": [],
   "source": [
    "X = no_show.as_matrix(columns=feature_set)\n",
    "y = no_show['no_show'].values\n",
    "    \n",
    "X_train, X_test, y_train, y_test = train_test_split(X, y, test_size=0.1)"
   ]
  },
  {
   "cell_type": "code",
   "execution_count": null,
   "metadata": {},
   "outputs": [
    {
     "name": "stderr",
     "output_type": "stream",
     "text": [
      "INFO:justml:Sending data to train estimator classifier1...\n",
      "INFO:justml:Waiting for training to complete on JustML servers...\n"
     ]
    }
   ],
   "source": [
    "%%timeit -n1 -r1 # measure the execution time\n",
    "\n",
    "if clf.status != \"trained\":\n",
    "    clf.fit(X=X_train, y=y_train)"
   ]
  },
  {
   "cell_type": "code",
   "execution_count": null,
   "metadata": {},
   "outputs": [],
   "source": []
  }
 ],
 "metadata": {
  "kernelspec": {
   "display_name": "Python 3",
   "language": "python",
   "name": "python3"
  },
  "language_info": {
   "codemirror_mode": {
    "name": "ipython",
    "version": 3
   },
   "file_extension": ".py",
   "mimetype": "text/x-python",
   "name": "python",
   "nbconvert_exporter": "python",
   "pygments_lexer": "ipython3",
   "version": "3.5.5"
  }
 },
 "nbformat": 4,
 "nbformat_minor": 2
}
